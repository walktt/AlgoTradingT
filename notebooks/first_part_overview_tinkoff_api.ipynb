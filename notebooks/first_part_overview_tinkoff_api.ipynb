{
 "cells": [
  {
   "cell_type": "markdown",
   "id": "bd5d5be2",
   "metadata": {},
   "source": [
    "Importing data from tinkoff"
   ]
  },
  {
   "cell_type": "code",
   "execution_count": 1,
   "id": "c3fec27c",
   "metadata": {},
   "outputs": [],
   "source": [
    "import tinkoff.invest as ti\n",
    "from configparser import ConfigParser\n",
    "import pandas as pd\n",
    "import datetime, time\n",
    "import psycopg2\n",
    "from io import StringIO\n",
    "import csv"
   ]
  },
  {
   "cell_type": "code",
   "execution_count": 2,
   "id": "3849ff4f",
   "metadata": {},
   "outputs": [],
   "source": [
    "pd.set_option('display.max_rows', 500)\n",
    "pd.set_option('display.max_columns', 500)\n",
    "pd.set_option('display.width', 1000)\n",
    "today_date = datetime.date.today()\n",
    "today_date_start = datetime.datetime(today_date.year, today_date.month, today_date.day)"
   ]
  },
  {
   "cell_type": "code",
   "execution_count": 3,
   "id": "c3fdcce5",
   "metadata": {},
   "outputs": [],
   "source": [
    "config_parser = ConfigParser()\n",
    "config_parser.read('../airflow/tinkoff.cfg')\n",
    "token = config_parser.get('core', 'TOKEN_TINKOFF')"
   ]
  },
  {
   "cell_type": "code",
   "execution_count": 4,
   "id": "cfd4a501",
   "metadata": {},
   "outputs": [],
   "source": [
    "def get_figi(name):\n",
    "    instruments = client.instruments.futures()\n",
    "    for instrument in instruments.instruments:\n",
    "        if instrument.ticker == name:\n",
    "            break\n",
    "    return instrument.figi"
   ]
  },
  {
   "cell_type": "code",
   "execution_count": 5,
   "id": "2682b458",
   "metadata": {},
   "outputs": [],
   "source": [
    "def calcDirection(open, close):\n",
    "    if open==close:\n",
    "        return '='\n",
    "    if close-open>0:\n",
    "        return '+'\n",
    "    if close-open<0:\n",
    "        return '-'\n",
    "    else:\n",
    "        return 'err'"
   ]
  },
  {
   "cell_type": "code",
   "execution_count": 6,
   "id": "8ddb7ba0",
   "metadata": {},
   "outputs": [],
   "source": [
    "def create_df(candles: [ti.HistoricCandle]):\n",
    "    df = pd.DataFrame ([{\n",
    "        'time' : c.time+datetime.timedelta(hours=3),\n",
    "        'open' : c.open.units+c.open.nano/1000000000,\n",
    "        'close' : c.close.units+c.close.nano/1000000000,\n",
    "        'low' : c.low.units+c.low.nano/1000000000,\n",
    "        'high' : c.high.units+c.high.nano/1000000000,\n",
    "        'dir' : calcDirection(c.open.units+c.open.nano/1000000000,c.close.units+c.close.nano/1000000000)\n",
    "    } for c in candles])\n",
    "    return df"
   ]
  },
  {
   "cell_type": "code",
   "execution_count": 10,
   "id": "7275e438",
   "metadata": {},
   "outputs": [],
   "source": [
    "    with ti.Client(token=token) as client:\n",
    "        figi = get_figi('RIM2')\n",
    "        r = client.users.get_accounts()\n",
    "        r = client.market_data.get_candles(\n",
    "            figi=figi,\n",
    "            from_=today_date_start - datetime.timedelta(days=300),\n",
    "            to = today_date_start,\n",
    "            interval=ti.CandleInterval.CANDLE_INTERVAL_DAY\n",
    "        )\n",
    "        df = create_df(r.candles)"
   ]
  },
  {
   "cell_type": "code",
   "execution_count": 11,
   "id": "2f57eb5c",
   "metadata": {
    "scrolled": true
   },
   "outputs": [
    {
     "data": {
      "text/html": [
       "<div>\n",
       "<style scoped>\n",
       "    .dataframe tbody tr th:only-of-type {\n",
       "        vertical-align: middle;\n",
       "    }\n",
       "\n",
       "    .dataframe tbody tr th {\n",
       "        vertical-align: top;\n",
       "    }\n",
       "\n",
       "    .dataframe thead th {\n",
       "        text-align: right;\n",
       "    }\n",
       "</style>\n",
       "<table border=\"1\" class=\"dataframe\">\n",
       "  <thead>\n",
       "    <tr style=\"text-align: right;\">\n",
       "      <th></th>\n",
       "      <th>time</th>\n",
       "      <th>open</th>\n",
       "      <th>close</th>\n",
       "      <th>low</th>\n",
       "      <th>high</th>\n",
       "      <th>dir</th>\n",
       "    </tr>\n",
       "  </thead>\n",
       "  <tbody>\n",
       "    <tr>\n",
       "      <th>0</th>\n",
       "      <td>2021-06-15 07:00:00+00:00</td>\n",
       "      <td>162440.0</td>\n",
       "      <td>162510.0</td>\n",
       "      <td>162440.0</td>\n",
       "      <td>162510.0</td>\n",
       "      <td>+</td>\n",
       "    </tr>\n",
       "    <tr>\n",
       "      <th>1</th>\n",
       "      <td>2021-06-16 07:00:00+00:00</td>\n",
       "      <td>159740.0</td>\n",
       "      <td>159290.0</td>\n",
       "      <td>159290.0</td>\n",
       "      <td>160300.0</td>\n",
       "      <td>-</td>\n",
       "    </tr>\n",
       "    <tr>\n",
       "      <th>2</th>\n",
       "      <td>2021-06-17 07:00:00+00:00</td>\n",
       "      <td>157850.0</td>\n",
       "      <td>159950.0</td>\n",
       "      <td>157850.0</td>\n",
       "      <td>159950.0</td>\n",
       "      <td>+</td>\n",
       "    </tr>\n",
       "    <tr>\n",
       "      <th>3</th>\n",
       "      <td>2021-06-18 07:00:00+00:00</td>\n",
       "      <td>159090.0</td>\n",
       "      <td>159090.0</td>\n",
       "      <td>159090.0</td>\n",
       "      <td>159090.0</td>\n",
       "      <td>=</td>\n",
       "    </tr>\n",
       "    <tr>\n",
       "      <th>4</th>\n",
       "      <td>2021-06-22 07:00:00+00:00</td>\n",
       "      <td>157990.0</td>\n",
       "      <td>157990.0</td>\n",
       "      <td>157990.0</td>\n",
       "      <td>157990.0</td>\n",
       "      <td>=</td>\n",
       "    </tr>\n",
       "  </tbody>\n",
       "</table>\n",
       "</div>"
      ],
      "text/plain": [
       "                       time      open     close       low      high dir\n",
       "0 2021-06-15 07:00:00+00:00  162440.0  162510.0  162440.0  162510.0   +\n",
       "1 2021-06-16 07:00:00+00:00  159740.0  159290.0  159290.0  160300.0   -\n",
       "2 2021-06-17 07:00:00+00:00  157850.0  159950.0  157850.0  159950.0   +\n",
       "3 2021-06-18 07:00:00+00:00  159090.0  159090.0  159090.0  159090.0   =\n",
       "4 2021-06-22 07:00:00+00:00  157990.0  157990.0  157990.0  157990.0   ="
      ]
     },
     "execution_count": 11,
     "metadata": {},
     "output_type": "execute_result"
    }
   ],
   "source": [
    "df.head()"
   ]
  },
  {
   "cell_type": "code",
   "execution_count": 12,
   "id": "24cb5be7",
   "metadata": {},
   "outputs": [
    {
     "data": {
      "text/html": [
       "<div>\n",
       "<style scoped>\n",
       "    .dataframe tbody tr th:only-of-type {\n",
       "        vertical-align: middle;\n",
       "    }\n",
       "\n",
       "    .dataframe tbody tr th {\n",
       "        vertical-align: top;\n",
       "    }\n",
       "\n",
       "    .dataframe thead th {\n",
       "        text-align: right;\n",
       "    }\n",
       "</style>\n",
       "<table border=\"1\" class=\"dataframe\">\n",
       "  <thead>\n",
       "    <tr style=\"text-align: right;\">\n",
       "      <th></th>\n",
       "      <th>time</th>\n",
       "      <th>open</th>\n",
       "      <th>close</th>\n",
       "      <th>low</th>\n",
       "      <th>high</th>\n",
       "      <th>dir</th>\n",
       "    </tr>\n",
       "  </thead>\n",
       "  <tbody>\n",
       "    <tr>\n",
       "      <th>173</th>\n",
       "      <td>2022-04-05 07:00:00+00:00</td>\n",
       "      <td>102500.0</td>\n",
       "      <td>97250.0</td>\n",
       "      <td>93550.0</td>\n",
       "      <td>103200.0</td>\n",
       "      <td>-</td>\n",
       "    </tr>\n",
       "    <tr>\n",
       "      <th>174</th>\n",
       "      <td>2022-04-06 07:00:00+00:00</td>\n",
       "      <td>96550.0</td>\n",
       "      <td>99670.0</td>\n",
       "      <td>94400.0</td>\n",
       "      <td>100470.0</td>\n",
       "      <td>+</td>\n",
       "    </tr>\n",
       "    <tr>\n",
       "      <th>175</th>\n",
       "      <td>2022-04-07 07:00:00+00:00</td>\n",
       "      <td>99740.0</td>\n",
       "      <td>106000.0</td>\n",
       "      <td>99620.0</td>\n",
       "      <td>106490.0</td>\n",
       "      <td>+</td>\n",
       "    </tr>\n",
       "    <tr>\n",
       "      <th>176</th>\n",
       "      <td>2022-04-08 07:00:00+00:00</td>\n",
       "      <td>105710.0</td>\n",
       "      <td>106150.0</td>\n",
       "      <td>104160.0</td>\n",
       "      <td>109500.0</td>\n",
       "      <td>+</td>\n",
       "    </tr>\n",
       "    <tr>\n",
       "      <th>177</th>\n",
       "      <td>2022-04-11 07:00:00+00:00</td>\n",
       "      <td>103200.0</td>\n",
       "      <td>101820.0</td>\n",
       "      <td>98000.0</td>\n",
       "      <td>105040.0</td>\n",
       "      <td>-</td>\n",
       "    </tr>\n",
       "  </tbody>\n",
       "</table>\n",
       "</div>"
      ],
      "text/plain": [
       "                         time      open     close       low      high dir\n",
       "173 2022-04-05 07:00:00+00:00  102500.0   97250.0   93550.0  103200.0   -\n",
       "174 2022-04-06 07:00:00+00:00   96550.0   99670.0   94400.0  100470.0   +\n",
       "175 2022-04-07 07:00:00+00:00   99740.0  106000.0   99620.0  106490.0   +\n",
       "176 2022-04-08 07:00:00+00:00  105710.0  106150.0  104160.0  109500.0   +\n",
       "177 2022-04-11 07:00:00+00:00  103200.0  101820.0   98000.0  105040.0   -"
      ]
     },
     "execution_count": 12,
     "metadata": {},
     "output_type": "execute_result"
    }
   ],
   "source": [
    "df.tail()"
   ]
  },
  {
   "cell_type": "markdown",
   "id": "e7182c0c",
   "metadata": {},
   "source": [
    "Importing to DB"
   ]
  },
  {
   "cell_type": "code",
   "execution_count": 13,
   "id": "f899cd93",
   "metadata": {
    "scrolled": false
   },
   "outputs": [
    {
     "name": "stdout",
     "output_type": "stream",
     "text": [
      "<class 'pandas.core.frame.DataFrame'>\n",
      "RangeIndex: 191 entries, 0 to 190\n",
      "Data columns (total 6 columns):\n",
      " #   Column  Non-Null Count  Dtype              \n",
      "---  ------  --------------  -----              \n",
      " 0   time    191 non-null    datetime64[ns, UTC]\n",
      " 1   open    191 non-null    float64            \n",
      " 2   close   191 non-null    float64            \n",
      " 3   low     191 non-null    float64            \n",
      " 4   high    191 non-null    float64            \n",
      " 5   dir     191 non-null    object             \n",
      "dtypes: datetime64[ns, UTC](1), float64(4), object(1)\n",
      "memory usage: 9.1+ KB\n"
     ]
    }
   ],
   "source": [
    "df.info()"
   ]
  },
  {
   "cell_type": "code",
   "execution_count": 14,
   "id": "9fc299dc",
   "metadata": {},
   "outputs": [],
   "source": [
    "login='trader'\n",
    "password='income'\n",
    "host='localhost'\n",
    "port=5432\n",
    "dbname='stocks'\n"
   ]
  },
  {
   "cell_type": "code",
   "execution_count": 15,
   "id": "90089049",
   "metadata": {},
   "outputs": [],
   "source": [
    "DB_URL = f'user={login} password={password} host={host} port={port} dbname={dbname}'"
   ]
  },
  {
   "cell_type": "code",
   "execution_count": 16,
   "id": "99af0ec8",
   "metadata": {},
   "outputs": [
    {
     "data": {
      "text/plain": [
       "'user=trader password=income host=localhost port=5432 dbname=stocks'"
      ]
     },
     "execution_count": 16,
     "metadata": {},
     "output_type": "execute_result"
    }
   ],
   "source": [
    "DB_URL"
   ]
  },
  {
   "cell_type": "code",
   "execution_count": 17,
   "id": "150ba003",
   "metadata": {},
   "outputs": [],
   "source": [
    "def load_df_to_db(df: pd.DataFrame, table_name:str) -> None:\n",
    "    buffer= StringIO()\n",
    "    df.to_csv(buffer, index=False, sep='|', na_rep='NUL', quoting=csv.QUOTE_MINIMAL, header=False, float_format='%.8f', \n",
    "              doublequote=False, escapechar='\\\\')\n",
    "    buffer.seek(0)\n",
    "    copy_query = f\"\"\"\n",
    "        COPY {table_name}({','.join(df.columns)})\n",
    "        FROM STDIN\n",
    "        DELIMITER '|'\n",
    "        NULL 'NUL'\n",
    "    \"\"\"\n",
    "    conn = psycopg2.connect(dsn = DB_URL)\n",
    "    with conn.cursor() as cursor:\n",
    "        cursor.copy_expert(copy_query,buffer)\n",
    "        conn.commit()\n",
    "        conn.close()"
   ]
  },
  {
   "cell_type": "code",
   "execution_count": 18,
   "id": "eb037636",
   "metadata": {},
   "outputs": [],
   "source": [
    "load_df_to_db(df,'data')"
   ]
  },
  {
   "cell_type": "code",
   "execution_count": null,
   "id": "2c35cb41",
   "metadata": {},
   "outputs": [],
   "source": []
  }
 ],
 "metadata": {
  "kernelspec": {
   "display_name": "Python 3 (ipykernel)",
   "language": "python",
   "name": "python3"
  },
  "language_info": {
   "codemirror_mode": {
    "name": "ipython",
    "version": 3
   },
   "file_extension": ".py",
   "mimetype": "text/x-python",
   "name": "python",
   "nbconvert_exporter": "python",
   "pygments_lexer": "ipython3",
   "version": "3.9.7"
  }
 },
 "nbformat": 4,
 "nbformat_minor": 5
}
