{
 "cells": [
  {
   "cell_type": "markdown",
   "id": "bd5d5be2",
   "metadata": {},
   "source": [
    "Importing data from tinkoff"
   ]
  },
  {
   "cell_type": "code",
   "execution_count": 67,
   "id": "c3fec27c",
   "metadata": {},
   "outputs": [],
   "source": [
    "import tinkoff.invest as ti\n",
    "from configparser import ConfigParser\n",
    "import pandas as pd\n",
    "import datetime, time\n",
    "import psycopg2\n",
    "from io import StringIO\n",
    "import csv\n",
    "import telebot"
   ]
  },
  {
   "cell_type": "code",
   "execution_count": 68,
   "id": "3849ff4f",
   "metadata": {},
   "outputs": [],
   "source": [
    "pd.set_option('display.max_rows', 500)\n",
    "pd.set_option('display.max_columns', 500)\n",
    "pd.set_option('display.width', 1000)\n",
    "today_date = datetime.date.today()\n",
    "today_date_start = datetime.datetime(today_date.year, today_date.month, today_date.day)"
   ]
  },
  {
   "cell_type": "code",
   "execution_count": 69,
   "id": "c3fdcce5",
   "metadata": {},
   "outputs": [],
   "source": [
    "config_parser = ConfigParser()\n",
    "config_parser.read('../airflow/tinkoff.cfg')\n",
    "token = config_parser.get('core', 'TOKEN_TINKOFF')"
   ]
  },
  {
   "cell_type": "code",
   "execution_count": 70,
   "id": "fd8a772d",
   "metadata": {},
   "outputs": [],
   "source": [
    "bot = telebot.TeleBot(config_parser.get('tg', 'TOKEN_TG'))\n",
    "chatid = config_parser.get('tg', 'CHAT_ID')"
   ]
  },
  {
   "cell_type": "code",
   "execution_count": 71,
   "id": "cfd4a501",
   "metadata": {},
   "outputs": [],
   "source": [
    "def get_figi(name):\n",
    "    instruments = client.instruments.futures()\n",
    "    for instrument in instruments.instruments:\n",
    "        if instrument.ticker == name:\n",
    "            break\n",
    "    return instrument.figi"
   ]
  },
  {
   "cell_type": "code",
   "execution_count": 72,
   "id": "2682b458",
   "metadata": {},
   "outputs": [],
   "source": [
    "def calcDirection(open, close):\n",
    "    if open==close:\n",
    "        return '='\n",
    "    if close-open>0:\n",
    "        return '+'\n",
    "    if close-open<0:\n",
    "        return '-'\n",
    "    else:\n",
    "        return 'err'"
   ]
  },
  {
   "cell_type": "code",
   "execution_count": 73,
   "id": "8ddb7ba0",
   "metadata": {},
   "outputs": [],
   "source": [
    "def create_df(candles: [ti.HistoricCandle]):\n",
    "    df = pd.DataFrame ([{\n",
    "        'time' : c.time+datetime.timedelta(hours=3),\n",
    "        'open' : c.open.units+c.open.nano/1000000000,\n",
    "        'close' : c.close.units+c.close.nano/1000000000,\n",
    "        'low' : c.low.units+c.low.nano/1000000000,\n",
    "        'high' : c.high.units+c.high.nano/1000000000,\n",
    "        'diff' : abs(c.close.units-c.open.units),\n",
    "        'dir' : calcDirection(c.open.units+c.open.nano/1000000000,c.close.units+c.close.nano/1000000000)\n",
    "    } for c in candles])\n",
    "    return df"
   ]
  },
  {
   "cell_type": "code",
   "execution_count": 74,
   "id": "7275e438",
   "metadata": {},
   "outputs": [],
   "source": [
    "    with ti.Client(token=token) as client:\n",
    "        figi = get_figi('RIM2')\n",
    "        r = client.users.get_accounts()\n",
    "        r = client.market_data.get_candles(\n",
    "            figi=figi,\n",
    "            from_=datetime.datetime.now() - datetime.timedelta(hours=4),\n",
    "            to = datetime.datetime.now(),\n",
    "            interval=ti.CandleInterval.CANDLE_INTERVAL_HOUR\n",
    "        )\n",
    "        df = create_df(r.candles)"
   ]
  },
  {
   "cell_type": "code",
   "execution_count": 75,
   "id": "2f57eb5c",
   "metadata": {
    "scrolled": true
   },
   "outputs": [
    {
     "data": {
      "text/html": [
       "<div>\n",
       "<style scoped>\n",
       "    .dataframe tbody tr th:only-of-type {\n",
       "        vertical-align: middle;\n",
       "    }\n",
       "\n",
       "    .dataframe tbody tr th {\n",
       "        vertical-align: top;\n",
       "    }\n",
       "\n",
       "    .dataframe thead th {\n",
       "        text-align: right;\n",
       "    }\n",
       "</style>\n",
       "<table border=\"1\" class=\"dataframe\">\n",
       "  <thead>\n",
       "    <tr style=\"text-align: right;\">\n",
       "      <th></th>\n",
       "      <th>time</th>\n",
       "      <th>open</th>\n",
       "      <th>close</th>\n",
       "      <th>low</th>\n",
       "      <th>high</th>\n",
       "      <th>diff</th>\n",
       "      <th>dir</th>\n",
       "    </tr>\n",
       "  </thead>\n",
       "  <tbody>\n",
       "    <tr>\n",
       "      <th>0</th>\n",
       "      <td>2022-05-18 13:00:00+00:00</td>\n",
       "      <td>120790.0</td>\n",
       "      <td>120740.0</td>\n",
       "      <td>120480.0</td>\n",
       "      <td>121110.0</td>\n",
       "      <td>-50</td>\n",
       "      <td>-</td>\n",
       "    </tr>\n",
       "    <tr>\n",
       "      <th>1</th>\n",
       "      <td>2022-05-18 14:00:00+00:00</td>\n",
       "      <td>120730.0</td>\n",
       "      <td>119680.0</td>\n",
       "      <td>119600.0</td>\n",
       "      <td>120890.0</td>\n",
       "      <td>-1050</td>\n",
       "      <td>-</td>\n",
       "    </tr>\n",
       "    <tr>\n",
       "      <th>2</th>\n",
       "      <td>2022-05-18 15:00:00+00:00</td>\n",
       "      <td>119680.0</td>\n",
       "      <td>121050.0</td>\n",
       "      <td>119410.0</td>\n",
       "      <td>121610.0</td>\n",
       "      <td>1370</td>\n",
       "      <td>+</td>\n",
       "    </tr>\n",
       "    <tr>\n",
       "      <th>3</th>\n",
       "      <td>2022-05-18 16:00:00+00:00</td>\n",
       "      <td>121060.0</td>\n",
       "      <td>118750.0</td>\n",
       "      <td>118750.0</td>\n",
       "      <td>121400.0</td>\n",
       "      <td>-2310</td>\n",
       "      <td>-</td>\n",
       "    </tr>\n",
       "    <tr>\n",
       "      <th>4</th>\n",
       "      <td>2022-05-18 17:00:00+00:00</td>\n",
       "      <td>118750.0</td>\n",
       "      <td>119330.0</td>\n",
       "      <td>118620.0</td>\n",
       "      <td>119460.0</td>\n",
       "      <td>580</td>\n",
       "      <td>+</td>\n",
       "    </tr>\n",
       "  </tbody>\n",
       "</table>\n",
       "</div>"
      ],
      "text/plain": [
       "                       time      open     close       low      high  diff dir\n",
       "0 2022-05-18 13:00:00+00:00  120790.0  120740.0  120480.0  121110.0   -50   -\n",
       "1 2022-05-18 14:00:00+00:00  120730.0  119680.0  119600.0  120890.0 -1050   -\n",
       "2 2022-05-18 15:00:00+00:00  119680.0  121050.0  119410.0  121610.0  1370   +\n",
       "3 2022-05-18 16:00:00+00:00  121060.0  118750.0  118750.0  121400.0 -2310   -\n",
       "4 2022-05-18 17:00:00+00:00  118750.0  119330.0  118620.0  119460.0   580   +"
      ]
     },
     "execution_count": 75,
     "metadata": {},
     "output_type": "execute_result"
    }
   ],
   "source": [
    "df"
   ]
  },
  {
   "cell_type": "code",
   "execution_count": 77,
   "id": "24cb5be7",
   "metadata": {},
   "outputs": [],
   "source": [
    "percent1 = df.iloc[0].open/110\n",
    "percent02 = df.iloc[0].open/1000*2\n",
    "if (df.iloc[0].dir==df.iloc[1].dir and df.iloc[2].dir==df.iloc[3].dir and df.iloc[1].dir!=df.iloc[2].dir \\\n",
    "and (df.iloc[1].diff)>percent1 and ((df.iloc[1].diff)-(df.iloc[2].diff))<percent02 \\\n",
    "and (abs(df.iloc[1].open-df.iloc[1].high)<percent02 or abs(df.iloc[1].close-df.iloc[1].high)<percent02) \\\n",
    "and (abs(df.iloc[2].open-df.iloc[2].high)<percent02 or abs(df.iloc[2].close-df.iloc[2].high)<percent02) \\\n",
    "and (abs(df.iloc[1].open-df.iloc[1].low)<percent02 or abs(df.iloc[1].close-df.iloc[1].low)<percent02) \\\n",
    "and (abs(df.iloc[2].open-df.iloc[2].low)<percent02 or abs(df.iloc[2].close-df.iloc[2].low)<percent02)):\n",
    "    bot.send_message(chatid,'SEE RIH')\n",
    "\n"
   ]
  },
  {
   "cell_type": "markdown",
   "id": "e7182c0c",
   "metadata": {},
   "source": [
    "Importing to DB"
   ]
  },
  {
   "cell_type": "code",
   "execution_count": 13,
   "id": "f899cd93",
   "metadata": {
    "scrolled": false
   },
   "outputs": [
    {
     "name": "stdout",
     "output_type": "stream",
     "text": [
      "<class 'pandas.core.frame.DataFrame'>\n",
      "RangeIndex: 191 entries, 0 to 190\n",
      "Data columns (total 6 columns):\n",
      " #   Column  Non-Null Count  Dtype              \n",
      "---  ------  --------------  -----              \n",
      " 0   time    191 non-null    datetime64[ns, UTC]\n",
      " 1   open    191 non-null    float64            \n",
      " 2   close   191 non-null    float64            \n",
      " 3   low     191 non-null    float64            \n",
      " 4   high    191 non-null    float64            \n",
      " 5   dir     191 non-null    object             \n",
      "dtypes: datetime64[ns, UTC](1), float64(4), object(1)\n",
      "memory usage: 9.1+ KB\n"
     ]
    }
   ],
   "source": [
    "df.info()"
   ]
  },
  {
   "cell_type": "code",
   "execution_count": 14,
   "id": "9fc299dc",
   "metadata": {},
   "outputs": [],
   "source": [
    "login='trader'\n",
    "password='income'\n",
    "host='localhost'\n",
    "port=5432\n",
    "dbname='stocks'\n"
   ]
  },
  {
   "cell_type": "code",
   "execution_count": 15,
   "id": "90089049",
   "metadata": {},
   "outputs": [],
   "source": [
    "DB_URL = f'user={login} password={password} host={host} port={port} dbname={dbname}'"
   ]
  },
  {
   "cell_type": "code",
   "execution_count": 16,
   "id": "99af0ec8",
   "metadata": {},
   "outputs": [
    {
     "data": {
      "text/plain": [
       "'user=trader password=income host=localhost port=5432 dbname=stocks'"
      ]
     },
     "execution_count": 16,
     "metadata": {},
     "output_type": "execute_result"
    }
   ],
   "source": [
    "DB_URL"
   ]
  },
  {
   "cell_type": "code",
   "execution_count": 17,
   "id": "150ba003",
   "metadata": {},
   "outputs": [],
   "source": [
    "def load_df_to_db(df: pd.DataFrame, table_name:str) -> None:\n",
    "    buffer= StringIO()\n",
    "    df.to_csv(buffer, index=False, sep='|', na_rep='NUL', quoting=csv.QUOTE_MINIMAL, header=False, float_format='%.8f', \n",
    "              doublequote=False, escapechar='\\\\')\n",
    "    buffer.seek(0)\n",
    "    copy_query = f\"\"\"\n",
    "        COPY {table_name}({','.join(df.columns)})\n",
    "        FROM STDIN\n",
    "        DELIMITER '|'\n",
    "        NULL 'NUL'\n",
    "    \"\"\"\n",
    "    conn = psycopg2.connect(dsn = DB_URL)\n",
    "    with conn.cursor() as cursor:\n",
    "        cursor.copy_expert(copy_query,buffer)\n",
    "        conn.commit()\n",
    "        conn.close()"
   ]
  },
  {
   "cell_type": "code",
   "execution_count": 18,
   "id": "eb037636",
   "metadata": {},
   "outputs": [],
   "source": [
    "load_df_to_db(df,'data')"
   ]
  },
  {
   "cell_type": "code",
   "execution_count": null,
   "id": "2c35cb41",
   "metadata": {},
   "outputs": [],
   "source": []
  }
 ],
 "metadata": {
  "kernelspec": {
   "display_name": "Python 3 (ipykernel)",
   "language": "python",
   "name": "python3"
  },
  "language_info": {
   "codemirror_mode": {
    "name": "ipython",
    "version": 3
   },
   "file_extension": ".py",
   "mimetype": "text/x-python",
   "name": "python",
   "nbconvert_exporter": "python",
   "pygments_lexer": "ipython3",
   "version": "3.9.7"
  }
 },
 "nbformat": 4,
 "nbformat_minor": 5
}
