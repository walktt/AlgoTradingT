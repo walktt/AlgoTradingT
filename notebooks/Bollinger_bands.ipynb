{
 "cells": [
  {
   "cell_type": "code",
   "execution_count": 2,
   "id": "c1e15c98",
   "metadata": {
    "scrolled": false
   },
   "outputs": [
    {
     "name": "stdout",
     "output_type": "stream",
     "text": [
      " Volume in drive D is Data\n",
      " Volume Serial Number is 60C9-102A\n",
      "\n",
      " Directory of D:\\Python\\udemy_algo_trading_airflow\\airflow\\plugins\\utils\n",
      "\n",
      "07/04/2022  15:13    <DIR>          .\n",
      "07/04/2022  15:13    <DIR>          ..\n",
      "29/03/2022  12:53    <DIR>          __pycache__\n",
      "27/03/2022  08:56             1,322 db.py\n",
      "23/02/2022  12:49             1,392 order.py\n",
      "07/04/2022  15:13               458 strategy.py\n",
      "29/03/2022  12:53             2,196 tinkoff.py\n",
      "               4 File(s)          5,368 bytes\n",
      "               3 Dir(s)  33,540,337,664 bytes free\n"
     ]
    }
   ],
   "source": [
    "ls ..\\airflow\\plugins\\utils"
   ]
  },
  {
   "cell_type": "code",
   "execution_count": 3,
   "id": "d947715e",
   "metadata": {},
   "outputs": [],
   "source": [
    "import sys\n",
    "sys.path.insert(0, '../airflow/plugins/utils/')"
   ]
  },
  {
   "cell_type": "code",
   "execution_count": 4,
   "id": "c9e214ea",
   "metadata": {},
   "outputs": [
    {
     "name": "stderr",
     "output_type": "stream",
     "text": [
      "WARNING:root:OSError while attempting to symlink the latest log directory\n"
     ]
    }
   ],
   "source": [
    "import pandas as pd\n",
    "import numpy as np\n",
    "import db\n",
    "import matplotlib.pyplot as plt"
   ]
  },
  {
   "cell_type": "code",
   "execution_count": 5,
   "id": "f3ea7460",
   "metadata": {},
   "outputs": [],
   "source": [
    "def _get_db_url(connector:str) -> str:\n",
    "    return 'user=trader password=income host=localhost port=5432 dbname=stocks'"
   ]
  },
  {
   "cell_type": "code",
   "execution_count": 6,
   "id": "d6abdd5b",
   "metadata": {},
   "outputs": [],
   "source": [
    "db._get_db_url = _get_db_url"
   ]
  },
  {
   "cell_type": "code",
   "execution_count": 7,
   "id": "22a0c616",
   "metadata": {},
   "outputs": [],
   "source": [
    "data = db.get_data_from_table('ads', 'data')"
   ]
  },
  {
   "cell_type": "code",
   "execution_count": 8,
   "id": "8047c5e8",
   "metadata": {},
   "outputs": [
    {
     "data": {
      "text/html": [
       "<div>\n",
       "<style scoped>\n",
       "    .dataframe tbody tr th:only-of-type {\n",
       "        vertical-align: middle;\n",
       "    }\n",
       "\n",
       "    .dataframe tbody tr th {\n",
       "        vertical-align: top;\n",
       "    }\n",
       "\n",
       "    .dataframe thead th {\n",
       "        text-align: right;\n",
       "    }\n",
       "</style>\n",
       "<table border=\"1\" class=\"dataframe\">\n",
       "  <thead>\n",
       "    <tr style=\"text-align: right;\">\n",
       "      <th></th>\n",
       "      <th>time</th>\n",
       "      <th>open</th>\n",
       "      <th>high</th>\n",
       "      <th>low</th>\n",
       "      <th>close</th>\n",
       "    </tr>\n",
       "  </thead>\n",
       "  <tbody>\n",
       "    <tr>\n",
       "      <th>0</th>\n",
       "      <td>2021-06-01 07:00:00</td>\n",
       "      <td>67.07</td>\n",
       "      <td>67.07</td>\n",
       "      <td>67.07</td>\n",
       "      <td>67.07</td>\n",
       "    </tr>\n",
       "    <tr>\n",
       "      <th>1</th>\n",
       "      <td>2021-06-03 07:00:00</td>\n",
       "      <td>67.81</td>\n",
       "      <td>67.81</td>\n",
       "      <td>67.81</td>\n",
       "      <td>67.81</td>\n",
       "    </tr>\n",
       "    <tr>\n",
       "      <th>2</th>\n",
       "      <td>2021-06-04 07:00:00</td>\n",
       "      <td>68.29</td>\n",
       "      <td>68.29</td>\n",
       "      <td>68.29</td>\n",
       "      <td>68.29</td>\n",
       "    </tr>\n",
       "    <tr>\n",
       "      <th>3</th>\n",
       "      <td>2021-06-09 07:00:00</td>\n",
       "      <td>68.35</td>\n",
       "      <td>68.35</td>\n",
       "      <td>68.35</td>\n",
       "      <td>68.35</td>\n",
       "    </tr>\n",
       "    <tr>\n",
       "      <th>4</th>\n",
       "      <td>2021-06-10 07:00:00</td>\n",
       "      <td>68.35</td>\n",
       "      <td>68.36</td>\n",
       "      <td>68.35</td>\n",
       "      <td>68.36</td>\n",
       "    </tr>\n",
       "    <tr>\n",
       "      <th>...</th>\n",
       "      <td>...</td>\n",
       "      <td>...</td>\n",
       "      <td>...</td>\n",
       "      <td>...</td>\n",
       "      <td>...</td>\n",
       "    </tr>\n",
       "    <tr>\n",
       "      <th>186</th>\n",
       "      <td>2022-03-22 07:00:00</td>\n",
       "      <td>111.00</td>\n",
       "      <td>114.87</td>\n",
       "      <td>108.49</td>\n",
       "      <td>113.97</td>\n",
       "    </tr>\n",
       "    <tr>\n",
       "      <th>187</th>\n",
       "      <td>2022-03-23 07:00:00</td>\n",
       "      <td>114.50</td>\n",
       "      <td>122.21</td>\n",
       "      <td>113.95</td>\n",
       "      <td>122.00</td>\n",
       "    </tr>\n",
       "    <tr>\n",
       "      <th>188</th>\n",
       "      <td>2022-03-24 07:00:00</td>\n",
       "      <td>121.45</td>\n",
       "      <td>122.59</td>\n",
       "      <td>118.55</td>\n",
       "      <td>120.35</td>\n",
       "    </tr>\n",
       "    <tr>\n",
       "      <th>189</th>\n",
       "      <td>2022-03-25 07:00:00</td>\n",
       "      <td>120.75</td>\n",
       "      <td>120.75</td>\n",
       "      <td>115.17</td>\n",
       "      <td>120.50</td>\n",
       "    </tr>\n",
       "    <tr>\n",
       "      <th>190</th>\n",
       "      <td>2022-03-28 07:00:00</td>\n",
       "      <td>119.68</td>\n",
       "      <td>119.68</td>\n",
       "      <td>112.82</td>\n",
       "      <td>114.24</td>\n",
       "    </tr>\n",
       "  </tbody>\n",
       "</table>\n",
       "<p>191 rows × 5 columns</p>\n",
       "</div>"
      ],
      "text/plain": [
       "                   time    open    high     low   close\n",
       "0   2021-06-01 07:00:00   67.07   67.07   67.07   67.07\n",
       "1   2021-06-03 07:00:00   67.81   67.81   67.81   67.81\n",
       "2   2021-06-04 07:00:00   68.29   68.29   68.29   68.29\n",
       "3   2021-06-09 07:00:00   68.35   68.35   68.35   68.35\n",
       "4   2021-06-10 07:00:00   68.35   68.36   68.35   68.36\n",
       "..                  ...     ...     ...     ...     ...\n",
       "186 2022-03-22 07:00:00  111.00  114.87  108.49  113.97\n",
       "187 2022-03-23 07:00:00  114.50  122.21  113.95  122.00\n",
       "188 2022-03-24 07:00:00  121.45  122.59  118.55  120.35\n",
       "189 2022-03-25 07:00:00  120.75  120.75  115.17  120.50\n",
       "190 2022-03-28 07:00:00  119.68  119.68  112.82  114.24\n",
       "\n",
       "[191 rows x 5 columns]"
      ]
     },
     "execution_count": 8,
     "metadata": {},
     "output_type": "execute_result"
    }
   ],
   "source": [
    "data"
   ]
  },
  {
   "cell_type": "code",
   "execution_count": 1,
   "id": "686caa50",
   "metadata": {},
   "outputs": [],
   "source": [
    "SMA = 30\n",
    "DEV=2"
   ]
  },
  {
   "cell_type": "code",
   "execution_count": 9,
   "id": "45cd473d",
   "metadata": {},
   "outputs": [],
   "source": [
    "data['sma'] = data['close'].rolling(SMA).mean()"
   ]
  },
  {
   "cell_type": "code",
   "execution_count": 10,
   "id": "9b4ff190",
   "metadata": {},
   "outputs": [],
   "source": [
    "std = data['close'].rolling(SMA).std()*DEV"
   ]
  },
  {
   "cell_type": "code",
   "execution_count": 18,
   "id": "8e1acbd3",
   "metadata": {},
   "outputs": [],
   "source": [
    "data['lower'] = data['sma'] - std\n",
    "data['upper'] = data['sma'] + std"
   ]
  },
  {
   "cell_type": "code",
   "execution_count": 19,
   "id": "4eebb108",
   "metadata": {},
   "outputs": [
    {
     "data": {
      "text/plain": [
       "<AxesSubplot:title={'center':'Bollinger bands with SMA: 30, and 2 std'}>"
      ]
     },
     "execution_count": 19,
     "metadata": {},
     "output_type": "execute_result"
    },
    {
     "data": {
      "image/png": "[encoded data removed]",
      "text/plain": [
       "<Figure size 864x576 with 1 Axes>"
      ]
     },
     "metadata": {
      "needs_background": "light"
     },
     "output_type": "display_data"
    }
   ],
   "source": [
    "data[['close','sma','lower','upper']].plot(figsize=(12,8), title=f'Bollinger bands with SMA: {SMA}, and {DEV} std')"
   ]
  },
  {
   "cell_type": "code",
   "execution_count": 20,
   "id": "908f16d3",
   "metadata": {},
   "outputs": [],
   "source": [
    "data['distance'] = data['close'] - data['sma']"
   ]
  },
  {
   "cell_type": "code",
   "execution_count": 21,
   "id": "ce639ed8",
   "metadata": {},
   "outputs": [],
   "source": [
    "data['position'] = np.where(data['close'] < data['lower'],1,np.nan)"
   ]
  },
  {
   "cell_type": "code",
   "execution_count": 22,
   "id": "90f27f50",
   "metadata": {},
   "outputs": [],
   "source": [
    "data['position'] = np.where(data['close'] > data['upper'], -1, data['position'])"
   ]
  },
  {
   "cell_type": "code",
   "execution_count": 23,
   "id": "76d4cba1",
   "metadata": {},
   "outputs": [],
   "source": [
    "data['position'] = np.where(data['distance'] * data['distance'].shift(1) <0, 0, data['position'])"
   ]
  },
  {
   "cell_type": "code",
   "execution_count": 24,
   "id": "2fc415ee",
   "metadata": {},
   "outputs": [],
   "source": [
    "data['position'] = data['position'].ffill().fillna(0)"
   ]
  },
  {
   "cell_type": "code",
   "execution_count": 26,
   "id": "e047baaa",
   "metadata": {},
   "outputs": [
    {
     "data": {
      "text/plain": [
       "-1.0    83\n",
       " 0.0    81\n",
       " 1.0    27\n",
       "Name: position, dtype: int64"
      ]
     },
     "execution_count": 26,
     "metadata": {},
     "output_type": "execute_result"
    }
   ],
   "source": [
    "data['position'].value_counts()"
   ]
  },
  {
   "cell_type": "code",
   "execution_count": 27,
   "id": "7755d09f",
   "metadata": {},
   "outputs": [
    {
     "data": {
      "text/html": [
       "<div>\n",
       "<style scoped>\n",
       "    .dataframe tbody tr th:only-of-type {\n",
       "        vertical-align: middle;\n",
       "    }\n",
       "\n",
       "    .dataframe tbody tr th {\n",
       "        vertical-align: top;\n",
       "    }\n",
       "\n",
       "    .dataframe thead th {\n",
       "        text-align: right;\n",
       "    }\n",
       "</style>\n",
       "<table border=\"1\" class=\"dataframe\">\n",
       "  <thead>\n",
       "    <tr style=\"text-align: right;\">\n",
       "      <th></th>\n",
       "      <th>time</th>\n",
       "      <th>open</th>\n",
       "      <th>high</th>\n",
       "      <th>low</th>\n",
       "      <th>close</th>\n",
       "      <th>sma</th>\n",
       "      <th>lower</th>\n",
       "      <th>upper</th>\n",
       "      <th>distance</th>\n",
       "      <th>position</th>\n",
       "    </tr>\n",
       "  </thead>\n",
       "  <tbody>\n",
       "    <tr>\n",
       "      <th>181</th>\n",
       "      <td>2022-03-15 07:00:00</td>\n",
       "      <td>103.50</td>\n",
       "      <td>103.50</td>\n",
       "      <td>97.30</td>\n",
       "      <td>97.37</td>\n",
       "      <td>95.541667</td>\n",
       "      <td>78.441335</td>\n",
       "      <td>112.641998</td>\n",
       "      <td>1.828333</td>\n",
       "      <td>-1.0</td>\n",
       "    </tr>\n",
       "    <tr>\n",
       "      <th>182</th>\n",
       "      <td>2022-03-16 07:00:00</td>\n",
       "      <td>100.23</td>\n",
       "      <td>101.98</td>\n",
       "      <td>96.11</td>\n",
       "      <td>97.20</td>\n",
       "      <td>95.877000</td>\n",
       "      <td>79.066317</td>\n",
       "      <td>112.687683</td>\n",
       "      <td>1.323000</td>\n",
       "      <td>-1.0</td>\n",
       "    </tr>\n",
       "    <tr>\n",
       "      <th>183</th>\n",
       "      <td>2022-03-17 07:00:00</td>\n",
       "      <td>97.50</td>\n",
       "      <td>101.87</td>\n",
       "      <td>96.50</td>\n",
       "      <td>101.62</td>\n",
       "      <td>96.349333</td>\n",
       "      <td>79.723147</td>\n",
       "      <td>112.975520</td>\n",
       "      <td>5.270667</td>\n",
       "      <td>-1.0</td>\n",
       "    </tr>\n",
       "    <tr>\n",
       "      <th>184</th>\n",
       "      <td>2022-03-18 07:00:00</td>\n",
       "      <td>101.97</td>\n",
       "      <td>106.50</td>\n",
       "      <td>101.97</td>\n",
       "      <td>103.30</td>\n",
       "      <td>96.866000</td>\n",
       "      <td>80.376378</td>\n",
       "      <td>113.355622</td>\n",
       "      <td>6.434000</td>\n",
       "      <td>-1.0</td>\n",
       "    </tr>\n",
       "    <tr>\n",
       "      <th>185</th>\n",
       "      <td>2022-03-21 07:00:00</td>\n",
       "      <td>103.33</td>\n",
       "      <td>108.94</td>\n",
       "      <td>103.33</td>\n",
       "      <td>108.16</td>\n",
       "      <td>97.538333</td>\n",
       "      <td>80.902102</td>\n",
       "      <td>114.174565</td>\n",
       "      <td>10.621667</td>\n",
       "      <td>-1.0</td>\n",
       "    </tr>\n",
       "    <tr>\n",
       "      <th>186</th>\n",
       "      <td>2022-03-22 07:00:00</td>\n",
       "      <td>111.00</td>\n",
       "      <td>114.87</td>\n",
       "      <td>108.49</td>\n",
       "      <td>113.97</td>\n",
       "      <td>98.397333</td>\n",
       "      <td>81.107914</td>\n",
       "      <td>115.686753</td>\n",
       "      <td>15.572667</td>\n",
       "      <td>-1.0</td>\n",
       "    </tr>\n",
       "    <tr>\n",
       "      <th>187</th>\n",
       "      <td>2022-03-23 07:00:00</td>\n",
       "      <td>114.50</td>\n",
       "      <td>122.21</td>\n",
       "      <td>113.95</td>\n",
       "      <td>122.00</td>\n",
       "      <td>99.475667</td>\n",
       "      <td>80.491517</td>\n",
       "      <td>118.459817</td>\n",
       "      <td>22.524333</td>\n",
       "      <td>-1.0</td>\n",
       "    </tr>\n",
       "    <tr>\n",
       "      <th>188</th>\n",
       "      <td>2022-03-24 07:00:00</td>\n",
       "      <td>121.45</td>\n",
       "      <td>122.59</td>\n",
       "      <td>118.55</td>\n",
       "      <td>120.35</td>\n",
       "      <td>100.427333</td>\n",
       "      <td>80.212839</td>\n",
       "      <td>120.641828</td>\n",
       "      <td>19.922667</td>\n",
       "      <td>-1.0</td>\n",
       "    </tr>\n",
       "    <tr>\n",
       "      <th>189</th>\n",
       "      <td>2022-03-25 07:00:00</td>\n",
       "      <td>120.75</td>\n",
       "      <td>120.75</td>\n",
       "      <td>115.17</td>\n",
       "      <td>120.50</td>\n",
       "      <td>101.401333</td>\n",
       "      <td>80.218012</td>\n",
       "      <td>122.584655</td>\n",
       "      <td>19.098667</td>\n",
       "      <td>-1.0</td>\n",
       "    </tr>\n",
       "    <tr>\n",
       "      <th>190</th>\n",
       "      <td>2022-03-28 07:00:00</td>\n",
       "      <td>119.68</td>\n",
       "      <td>119.68</td>\n",
       "      <td>112.82</td>\n",
       "      <td>114.24</td>\n",
       "      <td>102.224000</td>\n",
       "      <td>81.026649</td>\n",
       "      <td>123.421351</td>\n",
       "      <td>12.016000</td>\n",
       "      <td>-1.0</td>\n",
       "    </tr>\n",
       "  </tbody>\n",
       "</table>\n",
       "</div>"
      ],
      "text/plain": [
       "                   time    open    high     low   close         sma  \\\n",
       "181 2022-03-15 07:00:00  103.50  103.50   97.30   97.37   95.541667   \n",
       "182 2022-03-16 07:00:00  100.23  101.98   96.11   97.20   95.877000   \n",
       "183 2022-03-17 07:00:00   97.50  101.87   96.50  101.62   96.349333   \n",
       "184 2022-03-18 07:00:00  101.97  106.50  101.97  103.30   96.866000   \n",
       "185 2022-03-21 07:00:00  103.33  108.94  103.33  108.16   97.538333   \n",
       "186 2022-03-22 07:00:00  111.00  114.87  108.49  113.97   98.397333   \n",
       "187 2022-03-23 07:00:00  114.50  122.21  113.95  122.00   99.475667   \n",
       "188 2022-03-24 07:00:00  121.45  122.59  118.55  120.35  100.427333   \n",
       "189 2022-03-25 07:00:00  120.75  120.75  115.17  120.50  101.401333   \n",
       "190 2022-03-28 07:00:00  119.68  119.68  112.82  114.24  102.224000   \n",
       "\n",
       "         lower       upper   distance  position  \n",
       "181  78.441335  112.641998   1.828333      -1.0  \n",
       "182  79.066317  112.687683   1.323000      -1.0  \n",
       "183  79.723147  112.975520   5.270667      -1.0  \n",
       "184  80.376378  113.355622   6.434000      -1.0  \n",
       "185  80.902102  114.174565  10.621667      -1.0  \n",
       "186  81.107914  115.686753  15.572667      -1.0  \n",
       "187  80.491517  118.459817  22.524333      -1.0  \n",
       "188  80.212839  120.641828  19.922667      -1.0  \n",
       "189  80.218012  122.584655  19.098667      -1.0  \n",
       "190  81.026649  123.421351  12.016000      -1.0  "
      ]
     },
     "execution_count": 27,
     "metadata": {},
     "output_type": "execute_result"
    }
   ],
   "source": [
    "data.tail(10)"
   ]
  },
  {
   "cell_type": "code",
   "execution_count": null,
   "id": "f67290a8",
   "metadata": {},
   "outputs": [],
   "source": []
  }
 ],
 "metadata": {
  "kernelspec": {
   "display_name": "Python 3 (ipykernel)",
   "language": "python",
   "name": "python3"
  },
  "language_info": {
   "codemirror_mode": {
    "name": "ipython",
    "version": 3
   },
   "file_extension": ".py",
   "mimetype": "text/x-python",
   "name": "python",
   "nbconvert_exporter": "python",
   "pygments_lexer": "ipython3",
   "version": "3.9.7"
  }
 },
 "nbformat": 4,
 "nbformat_minor": 5
}
